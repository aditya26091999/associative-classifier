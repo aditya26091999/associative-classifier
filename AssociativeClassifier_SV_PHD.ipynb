{
  "nbformat": 4,
  "nbformat_minor": 0,
  "metadata": {
    "colab": {
      "name": "AssociativeClassifier_SV_PHD.ipynb",
      "provenance": [],
      "authorship_tag": "ABX9TyNDVnfdB1NxZLLjnzxoZ7Un",
      "include_colab_link": true
    },
    "kernelspec": {
      "name": "python3",
      "display_name": "Python 3"
    },
    "language_info": {
      "name": "python"
    }
  },
  "cells": [
    {
      "cell_type": "markdown",
      "metadata": {
        "id": "view-in-github",
        "colab_type": "text"
      },
      "source": [
        "<a href=\"https://colab.research.google.com/github/aditya26091999/AssociativeClassifier/blob/master/AssociativeClassifier_SV_PHD.ipynb\" target=\"_parent\"><img src=\"https://colab.research.google.com/assets/colab-badge.svg\" alt=\"Open In Colab\"/></a>"
      ]
    },
    {
      "cell_type": "markdown",
      "source": [
        "# Associative Classifier (Classification based on Apriori Algorithm generated rules)"
      ],
      "metadata": {
        "id": "ioDF8_kWQ6rw"
      }
    },
    {
      "cell_type": "markdown",
      "source": [
        "##### Pre-requisite setup (Data cleaning, Transacional dataset preparation)"
      ],
      "metadata": {
        "id": "bSdVRoLcRNUK"
      }
    },
    {
      "cell_type": "code",
      "source": [
        "#Importing necessary dependencies and libraries\n",
        "import sys\n",
        "import os\n",
        "import numpy as np\n",
        "import pandas as pd\n",
        "import matplotlib.pyplot as plt"
      ],
      "metadata": {
        "id": "tqlhTrjaRgJP"
      },
      "execution_count": null,
      "outputs": []
    },
    {
      "cell_type": "code",
      "source": [
        "#Upload the temporary dataset csv file to Google Colab Files section\n",
        "#Update the below method to reference the appropriate CSV File.\n",
        "original_dataset = pd.read_csv('/BuyComputerDataset.csv')\n",
        "print('------------------\\n#DATASET VALUES\\n------------------')\n",
        "display(original_dataset)"
      ],
      "metadata": {
        "id": "Hg7nzHcxuWSp"
      },
      "execution_count": null,
      "outputs": []
    },
    {
      "cell_type": "code",
      "source": [
        "print('------------------\\n#DATASET INFO()\\n------------------')\n",
        "original_dataset.info()\n",
        "print('\\n------------------\\n#DATASET DESCRIBE()\\n------------------')\n",
        "original_dataset.describe()"
      ],
      "metadata": {
        "id": "bPt_ez8zxoHf"
      },
      "execution_count": null,
      "outputs": []
    },
    {
      "cell_type": "markdown",
      "source": [
        "**Coverting the dataset into transactional dataset**"
      ],
      "metadata": {
        "id": "kf5Dzp3ZySbM"
      }
    },
    {
      "cell_type": "code",
      "source": [
        "#Create a independent copy of the original dataset to form transactional_dataset\n",
        "transactional_dataset = original_dataset.copy(deep=True)\n",
        "\n",
        "#Create a transaction_symbol reference dataset\n",
        "transactional_symbol_reference = pd.DataFrame(columns=['Attribute', 'Value', 'Symbol'])\n",
        "\n",
        "#List to track non-categorical columns\n",
        "non_categorical_columns = list()\n",
        "\n",
        "#Traverse the dataset columnwise to encode columnar data into symbols for the transactional_dataset\n",
        "#Skipping the first column='RID'\n",
        "print('------------------\\n#CONVERTING TO TRANSACTIONAL DATASET\\n------------------')\n",
        "for attribute in transactional_dataset.columns:\n",
        "  attribute_dtype = transactional_dataset[attribute].dtype\n",
        "\n",
        "  if transactional_dataset[attribute].dtype == 'object':\n",
        "    unique_attribute_values = list(transactional_dataset[attribute].unique())\n",
        "    print('\\nAttribute : ' + attribute + ' is categorical with unique value set : ', unique_attribute_values)\n",
        "\n",
        "    #Transactional data encoding starts for that attribute column values\n",
        "    for index, unique_val in enumerate(unique_attribute_values):\n",
        "      transaction_symbol = attribute[:2] + '_' +str(index)\n",
        "      transactional_symbol_reference = transactional_symbol_reference.append({'Attribute' : attribute, 'Value' : unique_val, 'Symbol' : transaction_symbol}, ignore_index = True)\n",
        "      transactional_dataset.loc[transactional_dataset[attribute] == unique_val, attribute] = transaction_symbol\n",
        "\n",
        "  else:\n",
        "    non_categorical_columns.append([attribute,attribute_dtype])\n",
        "\n",
        "print(\"\\n------------------\\n#CURRENT TRANSACTIONAL DATASET LOOKS LIKE THIS\\n------------------\")\n",
        "display(transactional_dataset)\n",
        "\n",
        "print(\"\\n------------------\\n#COLUMNS THAT COULDN'T BE CONVERTED\\n------------------\")\n",
        "for entry in non_categorical_columns:\n",
        "  print('\\nAttribute : ' + entry[0] + ' is of type : ', entry[1])\n",
        "\n",
        "print(\"\\n------------------\\n#WRITE CUSTOM LOGIC TO CONVERT THEM INTO CATEGORICAL\\n------------------\")"
      ],
      "metadata": {
        "id": "hJm3bXRryRSR"
      },
      "execution_count": null,
      "outputs": []
    },
    {
      "cell_type": "markdown",
      "source": [
        "**Custom Logic for converting Non-Categorical Columns into Categorical**"
      ],
      "metadata": {
        "id": "u3kU1AzJAE9G"
      }
    },
    {
      "cell_type": "markdown",
      "source": [
        "1. For Age Attribute"
      ],
      "metadata": {
        "id": "Yp9HCMuFPzsg"
      }
    },
    {
      "cell_type": "code",
      "source": [
        "#Custom Logic to convert Age Column into Categorical Values\n",
        "\n",
        "#Defining the Category labels for Age Column and adding entries to 'transactional_symbol_reference' dataset\n",
        "age_attribute_categories = {\n",
        "    \"AttributeName\":\"Age\",\n",
        "    \"CategoryValues\" : [\"<=30\",\"31...40\",\">40\"]\n",
        "}\n",
        "\n",
        "#Automatic generation of transaction symbols for 'transaction_symbol_reference' dataset\n",
        "attribute = age_attribute_categories['AttributeName']\n",
        "for index, unique_val in enumerate(age_attribute_categories['CategoryValues']):\n",
        "  transaction_symbol = attribute[:2] + '_' +str(index)\n",
        "  transactional_symbol_reference = transactional_symbol_reference.append({'Attribute' : attribute, 'Value' : unique_val, 'Symbol' : transaction_symbol}, ignore_index = True)\n",
        "\n",
        "#Writing the rules for encoding the non-categorical values\n",
        "a = list(transactional_dataset.query('Age <= 30').index)\n",
        "b = list(transactional_dataset.query('Age >= 31 and Age<=40').index)\n",
        "c = list(transactional_dataset.query('Age > 40').index)\n",
        "\n",
        "\n",
        "#Encoding the 'transactional_dataset' - Age attribute values with transaction symbols\n",
        "transactional_dataset.loc[a, 'Age'] = 'Ag_0'\n",
        "transactional_dataset.loc[b, 'Age'] = 'Ag_1'\n",
        "transactional_dataset.loc[c, 'Age'] = 'Ag_2'\n",
        "\n",
        "print(\"\\n------------------\\n#CURRENT TRANSACTIONAL DATASET LOOKS LIKE THIS\\n------------------\")\n",
        "display(transactional_dataset)"
      ],
      "metadata": {
        "id": "vFz-SjypAC-r"
      },
      "execution_count": null,
      "outputs": []
    },
    {
      "cell_type": "markdown",
      "source": [
        "**Pre-requisites for AssociativeClassifier Completed**"
      ],
      "metadata": {
        "id": "bQItR7xjSWAa"
      }
    },
    {
      "cell_type": "markdown",
      "source": [
        "**Showing the completed assets**"
      ],
      "metadata": {
        "id": "A0uuQy7wSgcN"
      }
    },
    {
      "cell_type": "code",
      "source": [
        "print(\"\\n------------------\\n#TRANSACTIONAL DATASET LOOKS LIKE THIS\\n------------------\")\n",
        "display(transactional_dataset)\n",
        "\n",
        "\n",
        "print(\"\\n------------------\\n#TRANSACTIONAL SYMBOL REFERENCE TABLE LOOKS LIKE THIS\\n------------------\")\n",
        "display(transactional_symbol_reference)"
      ],
      "metadata": {
        "id": "QV0UiqB8Sms5"
      },
      "execution_count": null,
      "outputs": []
    },
    {
      "cell_type": "markdown",
      "source": [
        "##### Apriori Algorithm (Generating Association Rule mining rules)"
      ],
      "metadata": {
        "id": "OKQXYqAgTTBy"
      }
    },
    {
      "cell_type": "code",
      "source": [
        ""
      ],
      "metadata": {
        "id": "F4W7tIa9TpWG"
      },
      "execution_count": null,
      "outputs": []
    }
  ]
}